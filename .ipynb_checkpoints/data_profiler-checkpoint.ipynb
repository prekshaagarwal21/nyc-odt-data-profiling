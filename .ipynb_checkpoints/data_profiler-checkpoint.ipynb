{
 "cells": [
  {
   "cell_type": "code",
   "execution_count": 1,
   "id": "b8f3c82f-fc50-4aa1-adb2-60aad11b61ae",
   "metadata": {},
   "outputs": [
    {
     "name": "stdout",
     "output_type": "stream",
     "text": [
      "\u001b[33mWARNING: The directory '/home/ubuntu/.cache/pip' or its parent directory is not owned or is not writable by the current user. The cache has been disabled. Check the permissions and owner of that directory. If executing pip with sudo, you should use sudo's -H flag.\u001b[0m\u001b[33m\n",
      "\u001b[0mCollecting pandas_profiling\n",
      "  Downloading pandas_profiling-3.2.0-py2.py3-none-any.whl (262 kB)\n",
      "\u001b[2K     \u001b[90m━━━━━━━━━━━━━━━━━━━━━━━━━━━━━━━━━━━━━━━\u001b[0m \u001b[32m262.6/262.6 kB\u001b[0m \u001b[31m8.7 MB/s\u001b[0m eta \u001b[36m0:00:00\u001b[0m\n",
      "\u001b[?25hRequirement already satisfied: seaborn>=0.10.1 in /opt/conda/lib/python3.8/site-packages (from pandas_profiling) (0.11.1)\n",
      "Collecting joblib~=1.1.0\n",
      "  Downloading joblib-1.1.0-py2.py3-none-any.whl (306 kB)\n",
      "\u001b[2K     \u001b[90m━━━━━━━━━━━━━━━━━━━━━━━━━━━━━━━━━━━━━━\u001b[0m \u001b[32m307.0/307.0 kB\u001b[0m \u001b[31m40.0 MB/s\u001b[0m eta \u001b[36m0:00:00\u001b[0m\n",
      "\u001b[?25hCollecting visions[type_image_path]==0.7.4\n",
      "  Downloading visions-0.7.4-py3-none-any.whl (102 kB)\n",
      "\u001b[2K     \u001b[90m━━━━━━━━━━━━━━━━━━━━━━━━━━━━━━━━━━━━━\u001b[0m \u001b[32m102.4/102.4 kB\u001b[0m \u001b[31m240.2 MB/s\u001b[0m eta \u001b[36m0:00:00\u001b[0m\n",
      "\u001b[?25hRequirement already satisfied: markupsafe~=2.1.1 in /opt/conda/lib/python3.8/site-packages (from pandas_profiling) (2.1.1)\n",
      "Requirement already satisfied: pydantic>=1.8.1 in /opt/conda/lib/python3.8/site-packages (from pandas_profiling) (1.9.1)\n",
      "Collecting tangled-up-in-unicode==0.2.0\n",
      "  Downloading tangled_up_in_unicode-0.2.0-py3-none-any.whl (4.7 MB)\n",
      "\u001b[2K     \u001b[90m━━━━━━━━━━━━━━━━━━━━━━━━━━━━━━━━━━━━━━━━\u001b[0m \u001b[32m4.7/4.7 MB\u001b[0m \u001b[31m150.7 MB/s\u001b[0m eta \u001b[36m0:00:00\u001b[0m\n",
      "\u001b[?25hRequirement already satisfied: PyYAML>=5.0.0 in /opt/conda/lib/python3.8/site-packages (from pandas_profiling) (5.4.1)\n",
      "Collecting htmlmin>=0.1.12\n",
      "  Downloading htmlmin-0.1.12.tar.gz (19 kB)\n",
      "  Preparing metadata (setup.py) ... \u001b[?25ldone\n",
      "\u001b[?25hCollecting multimethod>=1.4\n",
      "  Downloading multimethod-1.8-py3-none-any.whl (9.8 kB)\n",
      "Requirement already satisfied: numpy>=1.16.0 in /opt/conda/lib/python3.8/site-packages (from pandas_profiling) (1.19.5)\n",
      "Collecting missingno>=0.4.2\n",
      "  Downloading missingno-0.5.1-py3-none-any.whl (8.7 kB)\n",
      "Requirement already satisfied: tqdm>=4.48.2 in /opt/conda/lib/python3.8/site-packages (from pandas_profiling) (4.55.1)\n",
      "Requirement already satisfied: matplotlib>=3.2.0 in /opt/conda/lib/python3.8/site-packages (from pandas_profiling) (3.3.3)\n",
      "Collecting phik>=0.11.1\n",
      "  Downloading phik-0.12.2-cp38-cp38-manylinux_2_17_x86_64.manylinux2014_x86_64.whl (696 kB)\n",
      "\u001b[2K     \u001b[90m━━━━━━━━━━━━━━━━━━━━━━━━━━━━━━━━━━━━━\u001b[0m \u001b[32m696.1/696.1 kB\u001b[0m \u001b[31m243.2 MB/s\u001b[0m eta \u001b[36m0:00:00\u001b[0m\n",
      "\u001b[?25hRequirement already satisfied: requests>=2.24.0 in /opt/conda/lib/python3.8/site-packages (from pandas_profiling) (2.25.1)\n",
      "Requirement already satisfied: jinja2>=2.11.1 in /opt/conda/lib/python3.8/site-packages (from pandas_profiling) (3.0.3)\n",
      "Requirement already satisfied: scipy>=1.4.1 in /opt/conda/lib/python3.8/site-packages (from pandas_profiling) (1.6.0)\n",
      "Requirement already satisfied: pandas!=1.0.0,!=1.0.1,!=1.0.2,!=1.1.0,>=0.25.3 in /opt/conda/lib/python3.8/site-packages (from pandas_profiling) (1.2.0)\n",
      "Requirement already satisfied: networkx>=2.4 in /opt/conda/lib/python3.8/site-packages (from visions[type_image_path]==0.7.4->pandas_profiling) (2.8.1)\n",
      "Requirement already satisfied: attrs>=19.3.0 in /opt/conda/lib/python3.8/site-packages (from visions[type_image_path]==0.7.4->pandas_profiling) (21.4.0)\n",
      "Requirement already satisfied: Pillow in /opt/conda/lib/python3.8/site-packages (from visions[type_image_path]==0.7.4->pandas_profiling) (8.1.0)\n",
      "Collecting imagehash\n",
      "  Downloading ImageHash-4.2.1.tar.gz (812 kB)\n",
      "\u001b[2K     \u001b[90m━━━━━━━━━━━━━━━━━━━━━━━━━━━━━━━━━━━━━\u001b[0m \u001b[32m812.6/812.6 kB\u001b[0m \u001b[31m275.4 MB/s\u001b[0m eta \u001b[36m0:00:00\u001b[0m\n",
      "\u001b[?25h  Preparing metadata (setup.py) ... \u001b[?25ldone\n",
      "\u001b[?25hRequirement already satisfied: cycler>=0.10 in /opt/conda/lib/python3.8/site-packages (from matplotlib>=3.2.0->pandas_profiling) (0.10.0)\n",
      "Requirement already satisfied: pyparsing!=2.0.4,!=2.1.2,!=2.1.6,>=2.0.3 in /opt/conda/lib/python3.8/site-packages (from matplotlib>=3.2.0->pandas_profiling) (3.0.4)\n",
      "Requirement already satisfied: kiwisolver>=1.0.1 in /opt/conda/lib/python3.8/site-packages (from matplotlib>=3.2.0->pandas_profiling) (1.3.1)\n",
      "Requirement already satisfied: python-dateutil>=2.1 in /opt/conda/lib/python3.8/site-packages (from matplotlib>=3.2.0->pandas_profiling) (2.8.2)\n",
      "Requirement already satisfied: pytz>=2017.3 in /opt/conda/lib/python3.8/site-packages (from pandas!=1.0.0,!=1.0.1,!=1.0.2,!=1.1.0,>=0.25.3->pandas_profiling) (2021.3)\n",
      "Requirement already satisfied: typing-extensions>=3.7.4.3 in /opt/conda/lib/python3.8/site-packages (from pydantic>=1.8.1->pandas_profiling) (4.2.0)\n",
      "Requirement already satisfied: certifi>=2017.4.17 in /opt/conda/lib/python3.8/site-packages (from requests>=2.24.0->pandas_profiling) (2022.5.18.1)\n",
      "Requirement already satisfied: urllib3<1.27,>=1.21.1 in /opt/conda/lib/python3.8/site-packages (from requests>=2.24.0->pandas_profiling) (1.26.9)\n",
      "Requirement already satisfied: idna<3,>=2.5 in /opt/conda/lib/python3.8/site-packages (from requests>=2.24.0->pandas_profiling) (2.10)\n",
      "Requirement already satisfied: chardet<5,>=3.0.2 in /opt/conda/lib/python3.8/site-packages (from requests>=2.24.0->pandas_profiling) (3.0.4)\n",
      "Requirement already satisfied: six in /opt/conda/lib/python3.8/site-packages (from cycler>=0.10->matplotlib>=3.2.0->pandas_profiling) (1.15.0)\n",
      "Requirement already satisfied: PyWavelets in /opt/conda/lib/python3.8/site-packages (from imagehash->visions[type_image_path]==0.7.4->pandas_profiling) (1.1.1)\n",
      "Building wheels for collected packages: htmlmin, imagehash\n",
      "  Building wheel for htmlmin (setup.py) ... \u001b[?25ldone\n",
      "\u001b[?25h  Created wheel for htmlmin: filename=htmlmin-0.1.12-py3-none-any.whl size=27080 sha256=450dc975501e3177e8758741aaecab0939bb87bb6090401cfc3f3ab000650eba\n",
      "  Stored in directory: /tmp/pip-ephem-wheel-cache-pm6wrync/wheels/23/14/6e/4be5bfeeb027f4939a01764b48edd5996acf574b0913fe5243\n",
      "  Building wheel for imagehash (setup.py) ... \u001b[?25ldone\n",
      "\u001b[?25h  Created wheel for imagehash: filename=ImageHash-4.2.1-py2.py3-none-any.whl size=295188 sha256=c5c10ab3b3025ce1921a617c3c9a462294fe05ce2b1d8e05c375dfb0d89dfade\n",
      "  Stored in directory: /tmp/pip-ephem-wheel-cache-pm6wrync/wheels/48/a1/7f/096c1269d6bf78d4768180602579b35a1e8cb1250bb4b40c74\n",
      "Successfully built htmlmin imagehash\n",
      "Installing collected packages: htmlmin, tangled-up-in-unicode, multimethod, joblib, imagehash, visions, phik, missingno, pandas_profiling\n",
      "  Attempting uninstall: joblib\n",
      "    Found existing installation: joblib 1.0.0\n",
      "    Uninstalling joblib-1.0.0:\n",
      "      Successfully uninstalled joblib-1.0.0\n",
      "Successfully installed htmlmin-0.1.12 imagehash-4.2.1 joblib-1.1.0 missingno-0.5.1 multimethod-1.8 pandas_profiling-3.2.0 phik-0.12.2 tangled-up-in-unicode-0.2.0 visions-0.7.4\n",
      "\u001b[33mWARNING: Running pip as the 'root' user can result in broken permissions and conflicting behaviour with the system package manager. It is recommended to use a virtual environment instead: https://pip.pypa.io/warnings/venv\u001b[0m\u001b[33m\n",
      "\u001b[0m\u001b[33mWARNING: There was an error checking the latest version of pip.\u001b[0m\u001b[33m\n",
      "\u001b[0m"
     ]
    }
   ],
   "source": [
    "!sudo pip install pandas_profiling"
   ]
  },
  {
   "cell_type": "code",
   "execution_count": 2,
   "id": "c0fe43a7-8b21-4b1f-bcf9-ded8678e8812",
   "metadata": {},
   "outputs": [
    {
     "name": "stdout",
     "output_type": "stream",
     "text": [
      "\u001b[33mWARNING: The directory '/home/ubuntu/.cache/pip' or its parent directory is not owned or is not writable by the current user. The cache has been disabled. Check the permissions and owner of that directory. If executing pip with sudo, you should use sudo's -H flag.\u001b[0m\u001b[33m\n",
      "\u001b[0mCollecting gspread\n",
      "  Downloading gspread-5.4.0-py3-none-any.whl (37 kB)\n",
      "Requirement already satisfied: google-auth-oauthlib>=0.4.1 in /opt/conda/lib/python3.8/site-packages (from gspread) (0.4.2)\n",
      "Requirement already satisfied: google-auth>=1.12.0 in /opt/conda/lib/python3.8/site-packages (from gspread) (1.25.0)\n",
      "Requirement already satisfied: rsa<5,>=3.1.4 in /opt/conda/lib/python3.8/site-packages (from google-auth>=1.12.0->gspread) (4.7)\n",
      "Requirement already satisfied: setuptools>=40.3.0 in /opt/conda/lib/python3.8/site-packages (from google-auth>=1.12.0->gspread) (62.3.2)\n",
      "Requirement already satisfied: pyasn1-modules>=0.2.1 in /opt/conda/lib/python3.8/site-packages (from google-auth>=1.12.0->gspread) (0.2.8)\n",
      "Requirement already satisfied: cachetools<5.0,>=2.0.0 in /opt/conda/lib/python3.8/site-packages (from google-auth>=1.12.0->gspread) (4.2.1)\n",
      "Requirement already satisfied: six>=1.9.0 in /opt/conda/lib/python3.8/site-packages (from google-auth>=1.12.0->gspread) (1.15.0)\n",
      "Requirement already satisfied: requests-oauthlib>=0.7.0 in /opt/conda/lib/python3.8/site-packages (from google-auth-oauthlib>=0.4.1->gspread) (1.3.0)\n",
      "Requirement already satisfied: pyasn1<0.5.0,>=0.4.6 in /opt/conda/lib/python3.8/site-packages (from pyasn1-modules>=0.2.1->google-auth>=1.12.0->gspread) (0.4.8)\n",
      "Requirement already satisfied: oauthlib>=3.0.0 in /opt/conda/lib/python3.8/site-packages (from requests-oauthlib>=0.7.0->google-auth-oauthlib>=0.4.1->gspread) (3.1.0)\n",
      "Requirement already satisfied: requests>=2.0.0 in /opt/conda/lib/python3.8/site-packages (from requests-oauthlib>=0.7.0->google-auth-oauthlib>=0.4.1->gspread) (2.25.1)\n",
      "Requirement already satisfied: urllib3<1.27,>=1.21.1 in /opt/conda/lib/python3.8/site-packages (from requests>=2.0.0->requests-oauthlib>=0.7.0->google-auth-oauthlib>=0.4.1->gspread) (1.26.9)\n",
      "Requirement already satisfied: certifi>=2017.4.17 in /opt/conda/lib/python3.8/site-packages (from requests>=2.0.0->requests-oauthlib>=0.7.0->google-auth-oauthlib>=0.4.1->gspread) (2022.5.18.1)\n",
      "Requirement already satisfied: idna<3,>=2.5 in /opt/conda/lib/python3.8/site-packages (from requests>=2.0.0->requests-oauthlib>=0.7.0->google-auth-oauthlib>=0.4.1->gspread) (2.10)\n",
      "Requirement already satisfied: chardet<5,>=3.0.2 in /opt/conda/lib/python3.8/site-packages (from requests>=2.0.0->requests-oauthlib>=0.7.0->google-auth-oauthlib>=0.4.1->gspread) (3.0.4)\n",
      "Installing collected packages: gspread\n",
      "Successfully installed gspread-5.4.0\n",
      "\u001b[33mWARNING: Running pip as the 'root' user can result in broken permissions and conflicting behaviour with the system package manager. It is recommended to use a virtual environment instead: https://pip.pypa.io/warnings/venv\u001b[0m\u001b[33m\n",
      "\u001b[0m\u001b[33mWARNING: There was an error checking the latest version of pip.\u001b[0m\u001b[33m\n",
      "\u001b[0m"
     ]
    }
   ],
   "source": [
    "!sudo pip install gspread"
   ]
  },
  {
   "cell_type": "code",
   "execution_count": 3,
   "id": "f5c2c2ff-5402-45bb-904b-5d9750b301f5",
   "metadata": {},
   "outputs": [],
   "source": [
    "import pandas as pd\n",
    "import pandas_profiling\n",
    "from pandas_profiling import ProfileReport\n",
    "\n",
    "import numpy as np\n",
    "import string\n",
    "from google.oauth2 import service_account\n",
    "import gspread\n",
    "\n",
    "from pathlib import Path\n",
    "import os \n",
    "\n",
    "import time, datetime, os\n",
    "import shutil \n",
    "import requests"
   ]
  },
  {
   "cell_type": "code",
   "execution_count": 6,
   "id": "6dff522f-b8c6-4f53-b777-fd1d119eeddf",
   "metadata": {},
   "outputs": [],
   "source": [
    "# Check today's date and create a directory file structure for today's date.\n",
    "today = datetime.date.today()  \n",
    "todaystr = today.isoformat()   \n",
    "\n",
    "def create_date_dir():\n",
    "    i = 0\n",
    "    d = todaystr\n",
    "    if not os.path.exists(d):\n",
    "        os.mkdir(d)\n",
    "    else:\n",
    "        '''#if os.path.exists(d):\n",
    "        #    i += 1\n",
    "        #    d = d[:10] + '_' + str(i).zfill(2)\n",
    "        #os.mkdir(d)\n",
    "        #else:\n",
    "        #    m = re.findall(r'\\w\\w$', d)\n",
    "        #    i = float(m[0:]) + 1\n",
    "        #    d = d[:10] + '_' + str(i).zfill(2)\n",
    "        #os.mkdir(d)'''\n",
    "        shutil.rmtree(d)\n",
    "        #os.rmdir(d)\n",
    "        os.mkdir(d)\n",
    "        \n",
    "create_date_dir()\n",
    "\n",
    "# This will point to where the job is being run from NOT the directory where this file lives (mnt/notebooks/scratch), when run as a Domino Job \n",
    "current_dir = os.getcwd()\n",
    "    \n",
    "## Read in service account credentials - link to whichever json file holds your credentials\n",
    "gc = gspread.service_account(filename='/mnt/data/odt-data-profiler-069defc7abf3.json')\n",
    "\n",
    "## Spreadsheet key of your destination \n",
    "sh2 = gc.open_by_key('1gtMHAQkfufSOPb3hpThM_aZ0rwV8NG-CeVh3BY2dorQ')\n",
    "\n",
    "# Read data from worksheet\n",
    "worksheet2 = sh2.get_worksheet(0)\n",
    "list_of_lists = worksheet2.get_all_records()\n",
    "\n"
   ]
  },
  {
   "cell_type": "code",
   "execution_count": 7,
   "id": "535107c1-2a2f-4a85-b57c-34df0a3f1622",
   "metadata": {},
   "outputs": [
    {
     "data": {
      "text/plain": [
       "[{'agency': 'DOB',\n",
       "  'dataset': 'Certificate of Occupancy',\n",
       "  'api_endpoint': 'pkdm-hqz6',\n",
       "  'count': 14266},\n",
       " {'agency': 'SBS',\n",
       "  'dataset': 'FY21-BID-Trends-Report-Data',\n",
       "  'api_endpoint': 'eann-u7y2',\n",
       "  'count': ''}]"
      ]
     },
     "execution_count": 7,
     "metadata": {},
     "output_type": "execute_result"
    }
   ],
   "source": [
    "list_of_lists"
   ]
  },
  {
   "cell_type": "code",
   "execution_count": 10,
   "id": "76b698e7-b611-40fe-b788-b93560da8476",
   "metadata": {},
   "outputs": [],
   "source": [
    "def profile_data(list_of_lists):\n",
    "    for i in range (0,len(list_of_lists)):\n",
    "        agency_name = list_of_lists[i]['agency']\n",
    "        dataset_name = list_of_lists[i]['dataset']\n",
    "        url = list_of_lists[i]['api_endpoint']\n",
    "        dataset_url = f'https://data.cityofnewyork.us/resource/{url}.json'\n",
    "        #count = list_of_lists[i]['count']\n",
    "        #limit = dataset_url+\"?$select=count(*)\n",
    "        chunk_size = 1000\n",
    "        offset = 0\n",
    "        reached_end_of_dataset = False\n",
    "        tmp_dfs = []\n",
    "        while not reached_end_of_dataset:\n",
    "            chunk_url = f'{dataset_url}?$limit={chunk_size}&$offset={offset}'\n",
    "            tmp_r = requests.get(chunk_url, auth=(\"8febnpgtxedbep4no9oqegrce\",\"36g68l45jhsdzeu08j3i44j4nxn2t65ua1gw4o0xwa9o17ownv\"), timeout=None) #pd.read_json(chunk_url)\n",
    "            tmp = pd.DataFrame(tmp_r.json())\n",
    "            tmp_dfs.append(tmp)\n",
    "            #print(chunk_url)\n",
    "    \n",
    "            if tmp.shape[0] == chunk_size:\n",
    "                if offset <= 9860000:\n",
    "                    offset += chunk_size\n",
    "                else:\n",
    "                    break\n",
    "    \n",
    "            else: # if got the last chunk, should be smaller than the chunk size \n",
    "                reached_end_of_dataset = True\n",
    "\n",
    "        out_df = pd.concat(tmp_dfs, axis=0)\n",
    "        #r = requests.get(dataset_url+f\"?$limit=500000\", auth=(\"8febnpgtxedbep4no9oqegrce\",\"36g68l45jhsdzeu08j3i44j4nxn2t65ua1gw4o0xwa9o17ownv\"), timeout=None)\n",
    "        prl = ProfileReport(out_df, title=f\"{dataset_name}_Data_Profiler\", html={\"style\": {\"full_width\": True}}, sort=None,\n",
    "            correlations=None,\n",
    "            interactions=None,\n",
    "            missing_diagrams={\n",
    "                \"bar\": False,\n",
    "                \"matrix\": True,\n",
    "                \"heatmap\": False,\n",
    "                \"dendrogram\": False,\n",
    "            })\n",
    "        out = prl.to_file(current_dir + \"/\" + todaystr + \"/\" + f\"{todaystr}_{agency_name}_{dataset_name}.html\")\n"
   ]
  },
  {
   "cell_type": "code",
   "execution_count": 11,
   "id": "66d6847a-44bf-4c95-a9c0-15ca4f33013b",
   "metadata": {},
   "outputs": [
    {
     "data": {
      "application/vnd.jupyter.widget-view+json": {
       "model_id": "e608f197ddda41f98cc9a4fa1b0962dc",
       "version_major": 2,
       "version_minor": 0
      },
      "text/plain": [
       "Summarize dataset:   0%|          | 0/5 [00:00<?, ?it/s]"
      ]
     },
     "metadata": {},
     "output_type": "display_data"
    },
    {
     "data": {
      "application/vnd.jupyter.widget-view+json": {
       "model_id": "48d41af5f31041b68f70b1b52b23477e",
       "version_major": 2,
       "version_minor": 0
      },
      "text/plain": [
       "Generate report structure:   0%|          | 0/1 [00:00<?, ?it/s]"
      ]
     },
     "metadata": {},
     "output_type": "display_data"
    },
    {
     "data": {
      "application/vnd.jupyter.widget-view+json": {
       "model_id": "c1d744f52e524c7cb6727ca995626089",
       "version_major": 2,
       "version_minor": 0
      },
      "text/plain": [
       "Render HTML:   0%|          | 0/1 [00:00<?, ?it/s]"
      ]
     },
     "metadata": {},
     "output_type": "display_data"
    },
    {
     "data": {
      "application/vnd.jupyter.widget-view+json": {
       "model_id": "8c3893958c034bb68951fd77ec46b06a",
       "version_major": 2,
       "version_minor": 0
      },
      "text/plain": [
       "Export report to file:   0%|          | 0/1 [00:00<?, ?it/s]"
      ]
     },
     "metadata": {},
     "output_type": "display_data"
    },
    {
     "data": {
      "application/vnd.jupyter.widget-view+json": {
       "model_id": "94f68b68c0104a4db4d9e3079fa5012e",
       "version_major": 2,
       "version_minor": 0
      },
      "text/plain": [
       "Summarize dataset:   0%|          | 0/5 [00:00<?, ?it/s]"
      ]
     },
     "metadata": {},
     "output_type": "display_data"
    },
    {
     "data": {
      "application/vnd.jupyter.widget-view+json": {
       "model_id": "84abe82e27c2490bb4965f4e06f58063",
       "version_major": 2,
       "version_minor": 0
      },
      "text/plain": [
       "Generate report structure:   0%|          | 0/1 [00:00<?, ?it/s]"
      ]
     },
     "metadata": {},
     "output_type": "display_data"
    },
    {
     "data": {
      "application/vnd.jupyter.widget-view+json": {
       "model_id": "1d855222af504b9b97c7b83e37ec24ce",
       "version_major": 2,
       "version_minor": 0
      },
      "text/plain": [
       "Render HTML:   0%|          | 0/1 [00:00<?, ?it/s]"
      ]
     },
     "metadata": {},
     "output_type": "display_data"
    },
    {
     "data": {
      "application/vnd.jupyter.widget-view+json": {
       "model_id": "c4bc86d3174d493cb4528bb383cac70f",
       "version_major": 2,
       "version_minor": 0
      },
      "text/plain": [
       "Export report to file:   0%|          | 0/1 [00:00<?, ?it/s]"
      ]
     },
     "metadata": {},
     "output_type": "display_data"
    }
   ],
   "source": [
    "profile_data(list_of_lists)"
   ]
  },
  {
   "cell_type": "code",
   "execution_count": 15,
   "id": "807cde6d-3de8-4ce2-b166-0f85c7bcda47",
   "metadata": {},
   "outputs": [
    {
     "name": "stdout",
     "output_type": "stream",
     "text": [
      "/opt/conda/bin/python\n"
     ]
    }
   ],
   "source": [
    "!which python"
   ]
  },
  {
   "cell_type": "code",
   "execution_count": 16,
   "id": "83221fc6-ec52-4573-842e-9e7392334411",
   "metadata": {},
   "outputs": [
    {
     "data": {
      "text/plain": [
       "'/opt/conda/bin/python'"
      ]
     },
     "execution_count": 16,
     "metadata": {},
     "output_type": "execute_result"
    }
   ],
   "source": [
    "import sys\n",
    "sys.executable"
   ]
  },
  {
   "cell_type": "code",
   "execution_count": 20,
   "id": "384cb37c-4500-4699-9e93-047d2d074fb5",
   "metadata": {},
   "outputs": [],
   "source": [
    "url = 'https://data.cityofnewyork.us/resource/j34j-vqvt.json'\n",
    "    \n",
    "chunk_size = 1000\n",
    "offset = 0\n",
    "reached_end_of_dataset = False\n",
    "\n",
    "\n",
    "tmp_dfs = []\n",
    "\n",
    "while not reached_end_of_dataset:\n",
    "    chunk_url = f'{url}?$limit={chunk_size}&$offset={offset}'\n",
    "    \n",
    "    tmp = pd.read_json(chunk_url)\n",
    "    tmp_dfs.append(tmp)\n",
    "    \n",
    "    if tmp.shape[0] == chunk_size:\n",
    "        offset += chunk_size\n",
    "        \n",
    "    else: # if got the last chunk, should be smaller than the chunk size \n",
    "        reached_end_of_dataset = True\n",
    "\n",
    "out_df = pd.concat(tmp_dfs, axis=0)"
   ]
  },
  {
   "cell_type": "code",
   "execution_count": 21,
   "id": "95ca5aab-b303-4e64-943a-3faae26c6d53",
   "metadata": {},
   "outputs": [
    {
     "data": {
      "text/html": [
       "<div>\n",
       "<style scoped>\n",
       "    .dataframe tbody tr th:only-of-type {\n",
       "        vertical-align: middle;\n",
       "    }\n",
       "\n",
       "    .dataframe tbody tr th {\n",
       "        vertical-align: top;\n",
       "    }\n",
       "\n",
       "    .dataframe thead th {\n",
       "        text-align: right;\n",
       "    }\n",
       "</style>\n",
       "<table border=\"1\" class=\"dataframe\">\n",
       "  <thead>\n",
       "    <tr style=\"text-align: right;\">\n",
       "      <th></th>\n",
       "      <th>yearmonth</th>\n",
       "      <th>incidentclassification</th>\n",
       "      <th>incidentborough</th>\n",
       "      <th>incidentcount</th>\n",
       "      <th>averageresponsetime</th>\n",
       "    </tr>\n",
       "  </thead>\n",
       "  <tbody>\n",
       "    <tr>\n",
       "      <th>0</th>\n",
       "      <td>2009/07</td>\n",
       "      <td>All Fire/Emergency Incidents</td>\n",
       "      <td>Citywide</td>\n",
       "      <td>40850</td>\n",
       "      <td>04:27</td>\n",
       "    </tr>\n",
       "    <tr>\n",
       "      <th>1</th>\n",
       "      <td>2009/07</td>\n",
       "      <td>All Fire/Emergency Incidents</td>\n",
       "      <td>Manhattan</td>\n",
       "      <td>10709</td>\n",
       "      <td>04:32</td>\n",
       "    </tr>\n",
       "    <tr>\n",
       "      <th>2</th>\n",
       "      <td>2009/07</td>\n",
       "      <td>All Fire/Emergency Incidents</td>\n",
       "      <td>Bronx</td>\n",
       "      <td>8137</td>\n",
       "      <td>04:37</td>\n",
       "    </tr>\n",
       "    <tr>\n",
       "      <th>3</th>\n",
       "      <td>2009/07</td>\n",
       "      <td>All Fire/Emergency Incidents</td>\n",
       "      <td>Staten Island</td>\n",
       "      <td>2205</td>\n",
       "      <td>04:45</td>\n",
       "    </tr>\n",
       "    <tr>\n",
       "      <th>4</th>\n",
       "      <td>2009/07</td>\n",
       "      <td>All Fire/Emergency Incidents</td>\n",
       "      <td>Brooklyn</td>\n",
       "      <td>11505</td>\n",
       "      <td>04:01</td>\n",
       "    </tr>\n",
       "    <tr>\n",
       "      <th>...</th>\n",
       "      <td>...</td>\n",
       "      <td>...</td>\n",
       "      <td>...</td>\n",
       "      <td>...</td>\n",
       "      <td>...</td>\n",
       "    </tr>\n",
       "    <tr>\n",
       "      <th>363</th>\n",
       "      <td>FY 2017</td>\n",
       "      <td>Structural Fires</td>\n",
       "      <td>Manhattan</td>\n",
       "      <td>5669</td>\n",
       "      <td>04:26</td>\n",
       "    </tr>\n",
       "    <tr>\n",
       "      <th>364</th>\n",
       "      <td>FY 2017</td>\n",
       "      <td>Structural Fires</td>\n",
       "      <td>Bronx</td>\n",
       "      <td>5829</td>\n",
       "      <td>04:22</td>\n",
       "    </tr>\n",
       "    <tr>\n",
       "      <th>365</th>\n",
       "      <td>FY 2017</td>\n",
       "      <td>Structural Fires</td>\n",
       "      <td>Staten Island</td>\n",
       "      <td>1266</td>\n",
       "      <td>04:28</td>\n",
       "    </tr>\n",
       "    <tr>\n",
       "      <th>366</th>\n",
       "      <td>FY 2017</td>\n",
       "      <td>Structural Fires</td>\n",
       "      <td>Brooklyn</td>\n",
       "      <td>7949</td>\n",
       "      <td>03:42</td>\n",
       "    </tr>\n",
       "    <tr>\n",
       "      <th>367</th>\n",
       "      <td>FY 2017</td>\n",
       "      <td>Structural Fires</td>\n",
       "      <td>Queens</td>\n",
       "      <td>5362</td>\n",
       "      <td>04:34</td>\n",
       "    </tr>\n",
       "  </tbody>\n",
       "</table>\n",
       "<p>4368 rows × 5 columns</p>\n",
       "</div>"
      ],
      "text/plain": [
       "    yearmonth        incidentclassification incidentborough  incidentcount  \\\n",
       "0     2009/07  All Fire/Emergency Incidents        Citywide          40850   \n",
       "1     2009/07  All Fire/Emergency Incidents       Manhattan          10709   \n",
       "2     2009/07  All Fire/Emergency Incidents           Bronx           8137   \n",
       "3     2009/07  All Fire/Emergency Incidents   Staten Island           2205   \n",
       "4     2009/07  All Fire/Emergency Incidents        Brooklyn          11505   \n",
       "..        ...                           ...             ...            ...   \n",
       "363   FY 2017              Structural Fires       Manhattan           5669   \n",
       "364   FY 2017              Structural Fires           Bronx           5829   \n",
       "365   FY 2017              Structural Fires   Staten Island           1266   \n",
       "366   FY 2017              Structural Fires        Brooklyn           7949   \n",
       "367   FY 2017              Structural Fires          Queens           5362   \n",
       "\n",
       "    averageresponsetime  \n",
       "0                 04:27  \n",
       "1                 04:32  \n",
       "2                 04:37  \n",
       "3                 04:45  \n",
       "4                 04:01  \n",
       "..                  ...  \n",
       "363               04:26  \n",
       "364               04:22  \n",
       "365               04:28  \n",
       "366               03:42  \n",
       "367               04:34  \n",
       "\n",
       "[4368 rows x 5 columns]"
      ]
     },
     "execution_count": 21,
     "metadata": {},
     "output_type": "execute_result"
    }
   ],
   "source": [
    "out_df"
   ]
  },
  {
   "cell_type": "code",
   "execution_count": null,
   "id": "2f731e8c-ce0f-4489-bf70-b8bf6e2a3444",
   "metadata": {},
   "outputs": [],
   "source": [
    "import random\n",
    "\n",
    "filename = \"data.txt\"\n",
    "n = sum(1 for line in open(filename)) - 1 #number of records in file (excludes header)\n",
    "s = 10000 #desired sample size\n",
    "skip = sorted(random.sample(range(1,n+1),n-s)) #the 0-indexed header will not be included in the skip list\n",
    "df = pandas.read_csv(filename, skiprows=skip)"
   ]
  }
 ],
 "metadata": {
  "kernelspec": {
   "display_name": "Python 3 (ipykernel)",
   "language": "python",
   "name": "python3"
  },
  "language_info": {
   "codemirror_mode": {
    "name": "ipython",
    "version": 3
   },
   "file_extension": ".py",
   "mimetype": "text/x-python",
   "name": "python",
   "nbconvert_exporter": "python",
   "pygments_lexer": "ipython3",
   "version": "3.8.5"
  }
 },
 "nbformat": 4,
 "nbformat_minor": 5
}
